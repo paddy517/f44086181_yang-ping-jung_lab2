{
 "cells": [
  {
   "cell_type": "code",
   "execution_count": 10,
   "metadata": {
    "ExecuteTime": {
     "end_time": "2021-07-26T03:54:49.995014Z",
     "start_time": "2021-07-26T03:54:48.394675Z"
    }
   },
   "outputs": [],
   "source": [
    "import pygame\n",
    "import time\n",
    "from datetime import datetime\n",
    "\n",
    "\n",
    "WIN_WIDTH = 1024\n",
    "WIN_HEIGHT = 600\n",
    "BTN_WIDTH = 80\n",
    "BTN_HEIGHT = 80\n",
    "HP_WIDTH = 40\n",
    "HP_HEIGHT = 40\n",
    "ENEMY_WIDTH = 45\n",
    "ENEMY_HEIGHT = 45\n",
    "FPS = 30\n",
    "\n",
    "# color (RGB)\n",
    "BLACK = (0, 0, 0)\n",
    "WHITE = (255, 255, 255)\n",
    "RED = (255, 0, 0)\n",
    "\n",
    "# initialization\n",
    "pygame.init()\n",
    "\n",
    "# load image (background, enemy, buttons)\n",
    "background_image = pygame.transform.scale(pygame.image.load(\"images/Map.png\"), (WIN_WIDTH, WIN_HEIGHT))\n",
    "\n",
    "enemy_image = pygame.transform.scale(pygame.image.load(\"images/enemy.png\"), (ENEMY_WIDTH, ENEMY_HEIGHT))\n",
    "\n",
    "hp_image = pygame.transform.scale(pygame.image.load(\"images/hp.png\"), (HP_WIDTH, HP_HEIGHT))\n",
    "hp_gray_image = pygame.transform.scale(pygame.image.load(\"images/hp_gray.png\"), (HP_WIDTH, HP_HEIGHT))\n",
    "\n",
    "continue_image = pygame.transform.scale(pygame.image.load(\"images/continue.png\"), (BTN_WIDTH, BTN_HEIGHT))\n",
    "muse_image = pygame.transform.scale(pygame.image.load(\"images/muse.png\"), (BTN_WIDTH, BTN_HEIGHT))\n",
    "pause_image = pygame.transform.scale(pygame.image.load(\"images/pause.png\"), (BTN_WIDTH, BTN_HEIGHT))\n",
    "sound_image = pygame.transform.scale(pygame.image.load(\"images/sound.png\"), (BTN_WIDTH, BTN_HEIGHT))\n",
    "\n",
    "#create a list get tje control buttons above\n",
    "control_buttons=[muse_image,sound_image,continue_image,pause_image]\n",
    "\n",
    "# ...(to be done)\n",
    "\n",
    "\n",
    "\n",
    "# set the title\n",
    "win = pygame.display.set_mode((WIN_WIDTH, WIN_HEIGHT))\n",
    "pygame.display.set_caption(\"My first game\")\n",
    "# ... (to be done)\n",
    "\n",
    "\n",
    "class Game:\n",
    "    def __init__(self):\n",
    "        # window\n",
    "        # ...(to be done)\n",
    "\n",
    "        # hp\n",
    "        self.hp = 7\n",
    "        self.max_hp = 10\n",
    "        pass\n",
    "\n",
    "    def game_run(self):\n",
    "        # game loop\n",
    "        run = True\n",
    "        while run:\n",
    "            pygame.time.Clock().tick(FPS)\n",
    "            # event loop\n",
    "            for event in pygame.event.get():\n",
    "                if event.type == pygame.QUIT:\n",
    "                    run = False\n",
    "            \n",
    "            # draw background\n",
    "            win.blit(background_image,(0,0))\n",
    "            \n",
    "            # draw enemy and health bar\n",
    "            win.blit(enemy_image,(20,270))\n",
    "            pygame.draw.rect(win,RED,[30,260,30,5])\n",
    "            \n",
    "            # draw menu (and buttons)\n",
    "            pygame.draw.rect(win,BLACK,[0,0,1024,80])\n",
    "            \n",
    "            for i in range(5):\n",
    "                win.blit(hp_image,(410 + 40*i,0))\n",
    "            \n",
    "            for i in range(2):\n",
    "                win.blit(hp_image,(410 + 40*i,40))\n",
    "            for i in range(3):\n",
    "                win.blit(hp_gray_image,(490 + 40*i,40))\n",
    "            \n",
    "            for i in range(4):\n",
    "                win.blit(control_buttons[i],(700 + 80*i,0))\n",
    "            \n",
    "\n",
    "            # draw time\n",
    "            now = datetime.now()\n",
    "            current_time = now.strftime(\"%H:%M\")\n",
    "            font = pygame.font.SysFont(\"Arial\", 24)\n",
    "            text = font.render(current_time, True, WHITE, BLACK)\n",
    "            win.blit(text, (0,570))\n",
    "\n",
    "            #surface update\n",
    "            pygame.display.update()\n",
    "\n",
    "if __name__ == \"__main__\":\n",
    "    covid_game = Game()\n",
    "    covid_game.game_run()\n",
    "    pygame.quit()\n",
    "\n",
    "\n"
   ]
  }
 ],
 "metadata": {
  "kernelspec": {
   "display_name": "Python 3",
   "language": "python",
   "name": "python3"
  },
  "language_info": {
   "codemirror_mode": {
    "name": "ipython",
    "version": 3
   },
   "file_extension": ".py",
   "mimetype": "text/x-python",
   "name": "python",
   "nbconvert_exporter": "python",
   "pygments_lexer": "ipython3",
   "version": "3.8.10"
  },
  "toc": {
   "base_numbering": 1,
   "nav_menu": {},
   "number_sections": true,
   "sideBar": true,
   "skip_h1_title": false,
   "title_cell": "Table of Contents",
   "title_sidebar": "Contents",
   "toc_cell": false,
   "toc_position": {
    "height": "calc(100% - 180px)",
    "left": "10px",
    "top": "150px",
    "width": "303.837px"
   },
   "toc_section_display": true,
   "toc_window_display": false
  },
  "varInspector": {
   "cols": {
    "lenName": 16,
    "lenType": 16,
    "lenVar": 40
   },
   "kernels_config": {
    "python": {
     "delete_cmd_postfix": "",
     "delete_cmd_prefix": "del ",
     "library": "var_list.py",
     "varRefreshCmd": "print(var_dic_list())"
    },
    "r": {
     "delete_cmd_postfix": ") ",
     "delete_cmd_prefix": "rm(",
     "library": "var_list.r",
     "varRefreshCmd": "cat(var_dic_list()) "
    }
   },
   "position": {
    "height": "387.4px",
    "left": "1124.2px",
    "right": "20px",
    "top": "120px",
    "width": "374px"
   },
   "types_to_exclude": [
    "module",
    "function",
    "builtin_function_or_method",
    "instance",
    "_Feature"
   ],
   "window_display": false
  }
 },
 "nbformat": 4,
 "nbformat_minor": 4
}
